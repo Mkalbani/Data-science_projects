{
 "cells": [
  {
   "cell_type": "markdown",
   "id": "fa61343b",
   "metadata": {
    "_cell_guid": "b1076dfc-b9ad-4769-8c92-a6c4dae69d19",
    "_uuid": "8f2839f25d086af736a60e9eeb907d3b93b6e0e5",
    "execution": {
     "iopub.execute_input": "2024-03-08T22:05:13.761612Z",
     "iopub.status.busy": "2024-03-08T22:05:13.761230Z",
     "iopub.status.idle": "2024-03-08T22:05:13.804448Z",
     "shell.execute_reply": "2024-03-08T22:05:13.802046Z",
     "shell.execute_reply.started": "2024-03-08T22:05:13.761583Z"
    },
    "papermill": {
     "duration": 0.0036,
     "end_time": "2024-03-08T23:04:48.183204",
     "exception": false,
     "start_time": "2024-03-08T23:04:48.179604",
     "status": "completed"
    },
    "tags": []
   },
   "source": [
    "There are two main types of collaborative filtering:\n",
    "\n",
    "- User-Based Collaborative Filtering\n",
    "\n",
    "- Item-Based Collaborative Filtering\n",
    "\n",
    "this applies the User-Based Collaborative Filtering.\n"
   ]
  },
  {
   "cell_type": "code",
   "execution_count": 1,
   "id": "46ea7426",
   "metadata": {
    "execution": {
     "iopub.execute_input": "2024-03-08T23:04:48.191379Z",
     "iopub.status.busy": "2024-03-08T23:04:48.190798Z",
     "iopub.status.idle": "2024-03-08T23:04:59.867150Z",
     "shell.execute_reply": "2024-03-08T23:04:59.865977Z"
    },
    "papermill": {
     "duration": 11.683104,
     "end_time": "2024-03-08T23:04:59.869442",
     "exception": false,
     "start_time": "2024-03-08T23:04:48.186338",
     "status": "completed"
    },
    "tags": []
   },
   "outputs": [
    {
     "name": "stdout",
     "output_type": "stream",
     "text": [
      "Requirement already satisfied: scikit-surprise in /opt/conda/lib/python3.10/site-packages (1.1.3)\r\n",
      "Requirement already satisfied: joblib>=1.0.0 in /opt/conda/lib/python3.10/site-packages (from scikit-surprise) (1.3.2)\r\n",
      "Requirement already satisfied: numpy>=1.17.3 in /opt/conda/lib/python3.10/site-packages (from scikit-surprise) (1.26.4)\r\n",
      "Requirement already satisfied: scipy>=1.3.2 in /opt/conda/lib/python3.10/site-packages (from scikit-surprise) (1.11.4)\r\n"
     ]
    }
   ],
   "source": [
    "!pip install scikit-surprise"
   ]
  },
  {
   "cell_type": "code",
   "execution_count": 2,
   "id": "a583bcb6",
   "metadata": {
    "execution": {
     "iopub.execute_input": "2024-03-08T23:04:59.877314Z",
     "iopub.status.busy": "2024-03-08T23:04:59.876949Z",
     "iopub.status.idle": "2024-03-08T23:05:01.159537Z",
     "shell.execute_reply": "2024-03-08T23:05:01.158598Z"
    },
    "papermill": {
     "duration": 1.28919,
     "end_time": "2024-03-08T23:05:01.161912",
     "exception": false,
     "start_time": "2024-03-08T23:04:59.872722",
     "status": "completed"
    },
    "tags": []
   },
   "outputs": [],
   "source": [
    "# This Python 3 environment comes with many helpful analytics libraries installed\n",
    "# It is defined by the kaggle/python Docker image: https://github.com/kaggle/docker-python\n",
    "# For example, here's several helpful packages to load\n",
    "\n",
    "import numpy as np # linear algebra\n",
    "import pandas as pd # data processing, CSV file I/O (e.g. pd.read_csv\n",
    "from surprise.model_selection import train_test_split\n",
    "from surprise import Reader, Dataset\n",
    "from surprise import accuracy\n",
    "from surprise import KNNBasic\n"
   ]
  },
  {
   "cell_type": "code",
   "execution_count": 3,
   "id": "bc8dc5ab",
   "metadata": {
    "execution": {
     "iopub.execute_input": "2024-03-08T23:05:01.170775Z",
     "iopub.status.busy": "2024-03-08T23:05:01.170231Z",
     "iopub.status.idle": "2024-03-08T23:05:04.933900Z",
     "shell.execute_reply": "2024-03-08T23:05:04.932810Z"
    },
    "papermill": {
     "duration": 3.770716,
     "end_time": "2024-03-08T23:05:04.936316",
     "exception": false,
     "start_time": "2024-03-08T23:05:01.165600",
     "status": "completed"
    },
    "tags": []
   },
   "outputs": [],
   "source": [
    "book_df = pd.read_csv('../input/book-recommendation-dataset/Books.csv', low_memory=False)\n",
    "ratings_df = pd.read_csv('../input/book-recommendation-dataset/Ratings.csv').sample(40000)\n",
    "user_df = pd.read_csv('../input/book-recommendation-dataset/Users.csv')\n",
    "user_rating_df = ratings_df.merge(user_df, on='User-ID')"
   ]
  },
  {
   "cell_type": "code",
   "execution_count": 4,
   "id": "c9c9d239",
   "metadata": {
    "execution": {
     "iopub.execute_input": "2024-03-08T23:05:04.944955Z",
     "iopub.status.busy": "2024-03-08T23:05:04.944534Z",
     "iopub.status.idle": "2024-03-08T23:05:05.000242Z",
     "shell.execute_reply": "2024-03-08T23:05:04.999291Z"
    },
    "papermill": {
     "duration": 0.0625,
     "end_time": "2024-03-08T23:05:05.002494",
     "exception": false,
     "start_time": "2024-03-08T23:05:04.939994",
     "status": "completed"
    },
    "tags": []
   },
   "outputs": [],
   "source": [
    "#creating a surpise reader\n",
    "reader = Reader(rating_scale=(1,10))\n",
    "\n",
    "#load data from df\n",
    "data = Dataset.load_from_df(user_rating_df[['User-ID', 'ISBN', 'Book-Rating']], reader)"
   ]
  },
  {
   "cell_type": "code",
   "execution_count": 5,
   "id": "5a1b8524",
   "metadata": {
    "execution": {
     "iopub.execute_input": "2024-03-08T23:05:05.011261Z",
     "iopub.status.busy": "2024-03-08T23:05:05.010837Z",
     "iopub.status.idle": "2024-03-08T23:05:05.189380Z",
     "shell.execute_reply": "2024-03-08T23:05:05.187310Z"
    },
    "papermill": {
     "duration": 0.186017,
     "end_time": "2024-03-08T23:05:05.191916",
     "exception": false,
     "start_time": "2024-03-08T23:05:05.005899",
     "status": "completed"
    },
    "tags": []
   },
   "outputs": [],
   "source": [
    "#split train test\n",
    "trainset, testset = train_test_split(data, test_size=0.2, random_state=23)\n",
    "\n"
   ]
  },
  {
   "cell_type": "code",
   "execution_count": 6,
   "id": "ce046e5b",
   "metadata": {
    "execution": {
     "iopub.execute_input": "2024-03-08T23:05:05.200563Z",
     "iopub.status.busy": "2024-03-08T23:05:05.200227Z",
     "iopub.status.idle": "2024-03-08T23:05:05.205862Z",
     "shell.execute_reply": "2024-03-08T23:05:05.204474Z"
    },
    "papermill": {
     "duration": 0.013091,
     "end_time": "2024-03-08T23:05:05.208562",
     "exception": false,
     "start_time": "2024-03-08T23:05:05.195471",
     "status": "completed"
    },
    "tags": []
   },
   "outputs": [],
   "source": [
    "#create a knnbasic collaborative model\n",
    "\n",
    "similarity_option = {\n",
    "    'name': 'cosine',\n",
    "    'user_based': False #uses item-based collaborative filtering\n",
    "}"
   ]
  },
  {
   "cell_type": "code",
   "execution_count": 7,
   "id": "8e9e9709",
   "metadata": {
    "execution": {
     "iopub.execute_input": "2024-03-08T23:05:05.216819Z",
     "iopub.status.busy": "2024-03-08T23:05:05.216467Z",
     "iopub.status.idle": "2024-03-08T23:05:06.346168Z",
     "shell.execute_reply": "2024-03-08T23:05:06.345117Z"
    },
    "papermill": {
     "duration": 1.13613,
     "end_time": "2024-03-08T23:05:06.348210",
     "exception": false,
     "start_time": "2024-03-08T23:05:05.212080",
     "status": "completed"
    },
    "tags": []
   },
   "outputs": [
    {
     "name": "stdout",
     "output_type": "stream",
     "text": [
      "Computing the msd similarity matrix...\n",
      "Done computing similarity matrix.\n"
     ]
    },
    {
     "data": {
      "text/plain": [
       "<surprise.prediction_algorithms.knns.KNNBasic at 0x7d71312770a0>"
      ]
     },
     "execution_count": 7,
     "metadata": {},
     "output_type": "execute_result"
    }
   ],
   "source": [
    "model = KNNBasic(similarity_option=similarity_option)\n",
    "\n",
    "model.fit(trainset)"
   ]
  },
  {
   "cell_type": "code",
   "execution_count": 8,
   "id": "5403720d",
   "metadata": {
    "execution": {
     "iopub.execute_input": "2024-03-08T23:05:06.357030Z",
     "iopub.status.busy": "2024-03-08T23:05:06.356680Z",
     "iopub.status.idle": "2024-03-08T23:05:06.450172Z",
     "shell.execute_reply": "2024-03-08T23:05:06.448155Z"
    },
    "papermill": {
     "duration": 0.100813,
     "end_time": "2024-03-08T23:05:06.452975",
     "exception": false,
     "start_time": "2024-03-08T23:05:06.352162",
     "status": "completed"
    },
    "tags": []
   },
   "outputs": [],
   "source": [
    "pred = model.test(testset)"
   ]
  },
  {
   "cell_type": "code",
   "execution_count": 9,
   "id": "585d42e7",
   "metadata": {
    "execution": {
     "iopub.execute_input": "2024-03-08T23:05:06.463515Z",
     "iopub.status.busy": "2024-03-08T23:05:06.462500Z",
     "iopub.status.idle": "2024-03-08T23:05:06.477948Z",
     "shell.execute_reply": "2024-03-08T23:05:06.476941Z"
    },
    "papermill": {
     "duration": 0.023283,
     "end_time": "2024-03-08T23:05:06.480169",
     "exception": false,
     "start_time": "2024-03-08T23:05:06.456886",
     "status": "completed"
    },
    "tags": []
   },
   "outputs": [
    {
     "name": "stdout",
     "output_type": "stream",
     "text": [
      "RMSE: 3.8805\n"
     ]
    },
    {
     "data": {
      "text/plain": [
       "3.8804615268517932"
      ]
     },
     "execution_count": 9,
     "metadata": {},
     "output_type": "execute_result"
    }
   ],
   "source": [
    "## Evaluate the model's performance\n",
    "accuracy.rmse(pred)"
   ]
  },
  {
   "cell_type": "markdown",
   "id": "04f6bdae",
   "metadata": {
    "papermill": {
     "duration": 0.003446,
     "end_time": "2024-03-08T23:05:06.487405",
     "exception": false,
     "start_time": "2024-03-08T23:05:06.483959",
     "status": "completed"
    },
    "tags": []
   },
   "source": [
    "Excellent. We have a good rmse"
   ]
  },
  {
   "cell_type": "code",
   "execution_count": 10,
   "id": "cbd7ea36",
   "metadata": {
    "execution": {
     "iopub.execute_input": "2024-03-08T23:05:06.496496Z",
     "iopub.status.busy": "2024-03-08T23:05:06.496057Z",
     "iopub.status.idle": "2024-03-08T23:05:06.779960Z",
     "shell.execute_reply": "2024-03-08T23:05:06.778618Z"
    },
    "papermill": {
     "duration": 0.290795,
     "end_time": "2024-03-08T23:05:06.781857",
     "exception": false,
     "start_time": "2024-03-08T23:05:06.491062",
     "status": "completed"
    },
    "tags": []
   },
   "outputs": [
    {
     "name": "stdout",
     "output_type": "stream",
     "text": [
      "Top 5 recommended titles for User 17:\n",
      "1. Book with ISBN 0380406675 not found in book_df.\n",
      "2. Cattle Baron (Harlequin Super Romance) (ISBN: 0373709668) - Predicted Rating: 2.85\n",
      "3. All the Names (ISBN: 0156010593) - Predicted Rating: 2.85\n",
      "4. The Enneagram : A Journey of Self Discovery (ISBN: 0871932148) - Predicted Rating: 2.85\n",
      "5. The Vampire Lestat (Vampire Chronicles, Book II) (ISBN: 0345313860) - Predicted Rating: 2.85\n"
     ]
    }
   ],
   "source": [
    "\n",
    "# Choose a user for whom you want to get recommendations\n",
    "user_id = 17\n",
    "\n",
    "# Get a list of all books (ISBNs) in your dataset\n",
    "all_books = user_rating_df['ISBN'].unique()\n",
    "\n",
    "# Create a list of tuples containing the book ISBN and the predicted rating for the chosen user\n",
    "predicted_ratings = [(book, model.predict(user_id, book).est) for book in all_books]\n",
    "\n",
    "# Sort the list by predicted ratings in descending order\n",
    "predicted_ratings.sort(key=lambda x: x[1], reverse=True)\n",
    "\n",
    "# Print the top 5 recommended titles\n",
    "top_n = 5  # Adjust the number of top recommendations you want to display\n",
    "print(f\"Top {top_n} recommended titles for User {user_id}:\")\n",
    "for i, (book, rating) in enumerate(predicted_ratings[:top_n], 1):\n",
    "    # Check if the book is present in book_df before accessing its title\n",
    "    book_info = book_df[book_df['ISBN'] == book]\n",
    "    if not book_info.empty:\n",
    "        book_title = book_info['Book-Title'].iloc[0]\n",
    "        print(f\"{i}. {book_title} (ISBN: {book}) - Predicted Rating: {rating:.2f}\")\n",
    "    else:\n",
    "        print(f\"{i}. Book with ISBN {book} not found in book_df.\")\n"
   ]
  }
 ],
 "metadata": {
  "kaggle": {
   "accelerator": "none",
   "dataSources": [
    {
     "datasetId": 1004280,
     "sourceId": 7595263,
     "sourceType": "datasetVersion"
    }
   ],
   "dockerImageVersionId": 30664,
   "isGpuEnabled": false,
   "isInternetEnabled": true,
   "language": "python",
   "sourceType": "notebook"
  },
  "kernelspec": {
   "display_name": "Python 3",
   "language": "python",
   "name": "python3"
  },
  "language_info": {
   "codemirror_mode": {
    "name": "ipython",
    "version": 3
   },
   "file_extension": ".py",
   "mimetype": "text/x-python",
   "name": "python",
   "nbconvert_exporter": "python",
   "pygments_lexer": "ipython3",
   "version": "3.10.13"
  },
  "papermill": {
   "default_parameters": {},
   "duration": 21.57357,
   "end_time": "2024-03-08T23:05:07.407306",
   "environment_variables": {},
   "exception": null,
   "input_path": "__notebook__.ipynb",
   "output_path": "__notebook__.ipynb",
   "parameters": {},
   "start_time": "2024-03-08T23:04:45.833736",
   "version": "2.5.0"
  }
 },
 "nbformat": 4,
 "nbformat_minor": 5
}
